{
 "cells": [
  {
   "cell_type": "markdown",
   "metadata": {},
   "source": [
    "### This is a python script that calculates the answers for Module 1 Exercise.\n",
    "Use as a comparison to your results.<br>Don't worry too much about the code or syntax. (Feel free to explore.)<br>How did you stack up? What could your logic have been better?"
   ]
  },
  {
   "cell_type": "code",
   "execution_count": 3,
   "metadata": {},
   "outputs": [],
   "source": [
    "#import an external package that we will need; the convention is to put all imports at the\n",
    "#beginning of the file\n",
    "import pandas as pd"
   ]
  },
  {
   "cell_type": "code",
   "execution_count": 7,
   "metadata": {},
   "outputs": [],
   "source": [
    "# open the file and convert it into a pandas dataframe\n",
    "tlh = pd.read_csv('tlh_weather_data.csv')\n",
    "# let python know that the DATE column contains dates\n",
    "tlh.DATE = pd.to_datetime(tlh.DATE, yearfirst=True)"
   ]
  },
  {
   "cell_type": "code",
   "execution_count": 8,
   "metadata": {},
   "outputs": [
    {
     "data": {
      "text/html": [
       "<div>\n",
       "<style scoped>\n",
       "    .dataframe tbody tr th:only-of-type {\n",
       "        vertical-align: middle;\n",
       "    }\n",
       "\n",
       "    .dataframe tbody tr th {\n",
       "        vertical-align: top;\n",
       "    }\n",
       "\n",
       "    .dataframe thead th {\n",
       "        text-align: right;\n",
       "    }\n",
       "</style>\n",
       "<table border=\"1\" class=\"dataframe\">\n",
       "  <thead>\n",
       "    <tr style=\"text-align: right;\">\n",
       "      <th></th>\n",
       "      <th>STATION</th>\n",
       "      <th>DATE</th>\n",
       "      <th>AWND</th>\n",
       "      <th>PGTM</th>\n",
       "      <th>PRCP</th>\n",
       "      <th>SNOW</th>\n",
       "      <th>SNWD</th>\n",
       "      <th>TAVG</th>\n",
       "      <th>TMAX</th>\n",
       "      <th>TMIN</th>\n",
       "      <th>WDF2</th>\n",
       "      <th>WDF5</th>\n",
       "      <th>WSF2</th>\n",
       "      <th>WSF5</th>\n",
       "      <th>WT01</th>\n",
       "      <th>WT02</th>\n",
       "      <th>WT03</th>\n",
       "      <th>WT08</th>\n",
       "    </tr>\n",
       "  </thead>\n",
       "  <tbody>\n",
       "    <tr>\n",
       "      <th>0</th>\n",
       "      <td>USW00093805</td>\n",
       "      <td>2018-09-01</td>\n",
       "      <td>6.93</td>\n",
       "      <td>NaN</td>\n",
       "      <td>0.01</td>\n",
       "      <td>0.0</td>\n",
       "      <td>0.0</td>\n",
       "      <td>80.0</td>\n",
       "      <td>92</td>\n",
       "      <td>73</td>\n",
       "      <td>90.0</td>\n",
       "      <td>90.0</td>\n",
       "      <td>19.9</td>\n",
       "      <td>23.9</td>\n",
       "      <td>1.0</td>\n",
       "      <td>NaN</td>\n",
       "      <td>1.0</td>\n",
       "      <td>NaN</td>\n",
       "    </tr>\n",
       "    <tr>\n",
       "      <th>1</th>\n",
       "      <td>USW00093805</td>\n",
       "      <td>2018-09-02</td>\n",
       "      <td>6.26</td>\n",
       "      <td>NaN</td>\n",
       "      <td>0.33</td>\n",
       "      <td>0.0</td>\n",
       "      <td>0.0</td>\n",
       "      <td>80.0</td>\n",
       "      <td>92</td>\n",
       "      <td>74</td>\n",
       "      <td>120.0</td>\n",
       "      <td>110.0</td>\n",
       "      <td>32.0</td>\n",
       "      <td>38.0</td>\n",
       "      <td>1.0</td>\n",
       "      <td>NaN</td>\n",
       "      <td>1.0</td>\n",
       "      <td>NaN</td>\n",
       "    </tr>\n",
       "    <tr>\n",
       "      <th>2</th>\n",
       "      <td>USW00093805</td>\n",
       "      <td>2018-09-03</td>\n",
       "      <td>7.83</td>\n",
       "      <td>NaN</td>\n",
       "      <td>0.47</td>\n",
       "      <td>0.0</td>\n",
       "      <td>0.0</td>\n",
       "      <td>79.0</td>\n",
       "      <td>91</td>\n",
       "      <td>74</td>\n",
       "      <td>130.0</td>\n",
       "      <td>120.0</td>\n",
       "      <td>29.1</td>\n",
       "      <td>36.9</td>\n",
       "      <td>1.0</td>\n",
       "      <td>NaN</td>\n",
       "      <td>1.0</td>\n",
       "      <td>NaN</td>\n",
       "    </tr>\n",
       "    <tr>\n",
       "      <th>3</th>\n",
       "      <td>USW00093805</td>\n",
       "      <td>2018-09-04</td>\n",
       "      <td>8.95</td>\n",
       "      <td>NaN</td>\n",
       "      <td>0.32</td>\n",
       "      <td>0.0</td>\n",
       "      <td>0.0</td>\n",
       "      <td>78.0</td>\n",
       "      <td>85</td>\n",
       "      <td>74</td>\n",
       "      <td>90.0</td>\n",
       "      <td>80.0</td>\n",
       "      <td>29.1</td>\n",
       "      <td>35.1</td>\n",
       "      <td>1.0</td>\n",
       "      <td>NaN</td>\n",
       "      <td>1.0</td>\n",
       "      <td>NaN</td>\n",
       "    </tr>\n",
       "    <tr>\n",
       "      <th>4</th>\n",
       "      <td>USW00093805</td>\n",
       "      <td>2018-09-05</td>\n",
       "      <td>5.82</td>\n",
       "      <td>NaN</td>\n",
       "      <td>0.35</td>\n",
       "      <td>0.0</td>\n",
       "      <td>0.0</td>\n",
       "      <td>80.0</td>\n",
       "      <td>90</td>\n",
       "      <td>75</td>\n",
       "      <td>80.0</td>\n",
       "      <td>70.0</td>\n",
       "      <td>17.0</td>\n",
       "      <td>21.0</td>\n",
       "      <td>1.0</td>\n",
       "      <td>NaN</td>\n",
       "      <td>1.0</td>\n",
       "      <td>NaN</td>\n",
       "    </tr>\n",
       "  </tbody>\n",
       "</table>\n",
       "</div>"
      ],
      "text/plain": [
       "       STATION       DATE  AWND  PGTM  PRCP  SNOW  SNWD  TAVG  TMAX  TMIN  \\\n",
       "0  USW00093805 2018-09-01  6.93   NaN  0.01   0.0   0.0  80.0    92    73   \n",
       "1  USW00093805 2018-09-02  6.26   NaN  0.33   0.0   0.0  80.0    92    74   \n",
       "2  USW00093805 2018-09-03  7.83   NaN  0.47   0.0   0.0  79.0    91    74   \n",
       "3  USW00093805 2018-09-04  8.95   NaN  0.32   0.0   0.0  78.0    85    74   \n",
       "4  USW00093805 2018-09-05  5.82   NaN  0.35   0.0   0.0  80.0    90    75   \n",
       "\n",
       "    WDF2   WDF5  WSF2  WSF5  WT01  WT02  WT03  WT08  \n",
       "0   90.0   90.0  19.9  23.9   1.0   NaN   1.0   NaN  \n",
       "1  120.0  110.0  32.0  38.0   1.0   NaN   1.0   NaN  \n",
       "2  130.0  120.0  29.1  36.9   1.0   NaN   1.0   NaN  \n",
       "3   90.0   80.0  29.1  35.1   1.0   NaN   1.0   NaN  \n",
       "4   80.0   70.0  17.0  21.0   1.0   NaN   1.0   NaN  "
      ]
     },
     "execution_count": 8,
     "metadata": {},
     "output_type": "execute_result"
    }
   ],
   "source": [
    "tlh.head()"
   ]
  },
  {
   "cell_type": "markdown",
   "metadata": {},
   "source": [
    "Note: **NaN** is a placeholder for *null* value."
   ]
  },
  {
   "cell_type": "markdown",
   "metadata": {},
   "source": [
    "### Answers to the questions"
   ]
  },
  {
   "cell_type": "code",
   "execution_count": 12,
   "metadata": {},
   "outputs": [
    {
     "name": "stdout",
     "output_type": "stream",
     "text": [
      "The maximum temperature was 100 degrees.\n"
     ]
    }
   ],
   "source": [
    "### Question 1\n",
    "max_temp = tlh.TMAX.max()\n",
    "print(\"The maximum temperature was \" + str(max_temp) + \" degrees.\")"
   ]
  },
  {
   "cell_type": "code",
   "execution_count": 14,
   "metadata": {},
   "outputs": [
    {
     "name": "stdout",
     "output_type": "stream",
     "text": [
      "Number of 90 or higher degree days: 130\n"
     ]
    }
   ],
   "source": [
    "### Question 2\n",
    "days_90 = (tlh.TMAX >= 90).sum()\n",
    "print(\"Number of 90 or higher degree days: \" + str(days_90))"
   ]
  },
  {
   "cell_type": "code",
   "execution_count": 15,
   "metadata": {},
   "outputs": [
    {
     "name": "stdout",
     "output_type": "stream",
     "text": [
      "Number of days with more than 30 degree temperature swing: 42\n"
     ]
    }
   ],
   "source": [
    "### Question 3\n",
    "days_30 = ((tlh.TMAX - tlh.TMIN) > 30).sum()\n",
    "print(\"Number of days with more than 30 degree temperature swing: \" + str(days_30))"
   ]
  },
  {
   "cell_type": "code",
   "execution_count": 16,
   "metadata": {},
   "outputs": [
    {
     "name": "stdout",
     "output_type": "stream",
     "text": [
      "Max temp per month (labeled by last day of month):\n",
      "DATE\n",
      "2018-09-30     96\n",
      "2018-10-31     92\n",
      "2018-11-30     82\n",
      "2018-12-31     80\n",
      "2019-01-31     81\n",
      "2019-02-28     83\n",
      "2019-03-31     85\n",
      "2019-04-30     88\n",
      "2019-05-31    100\n",
      "2019-06-30    100\n",
      "2019-07-31     98\n",
      "2019-08-31     98\n",
      "Freq: M, Name: TMAX, dtype: int64\n"
     ]
    }
   ],
   "source": [
    "### Question 4\n",
    "# group the full dataset by months\n",
    "month_groups = tlh.groupby(pd.Grouper(key='DATE', freq='M'))\n",
    "# get the max value for each month\n",
    "max_month_temp = month_groups.TMAX.max()\n",
    "print(\"Max temp per month (labeled by last day of month):\")\n",
    "print(max_month_temp)"
   ]
  },
  {
   "cell_type": "code",
   "execution_count": 20,
   "metadata": {},
   "outputs": [
    {
     "name": "stdout",
     "output_type": "stream",
     "text": [
      "Number of days with a thunderstorm:\t109\n"
     ]
    }
   ],
   "source": [
    "### Question 5\n",
    "t_storms = (tlh.WT03==1).sum()\n",
    "print(\"Number of days with a thunderstorm:\\t\" + str(t_storms))"
   ]
  },
  {
   "cell_type": "code",
   "execution_count": 19,
   "metadata": {},
   "outputs": [
    {
     "name": "stdout",
     "output_type": "stream",
     "text": [
      "Average precipitation on all days:\t0.162712328767\n",
      "Average precipitation on rain days:\t0.379449541284\n"
     ]
    }
   ],
   "source": [
    "### Question 6\n",
    "# Average precipitation, including zero days\n",
    "avg_precip_all = tlh.PRCP.mean()\n",
    "print(\"Average precipitation on all days:\\t\" + str(avg_precip_all))\n",
    "avg_precip_rain = tlh.PRCP[tlh.WT03==1].mean()\n",
    "print(\"Average precipitation on rain days:\\t\" + str(avg_precip_rain))"
   ]
  },
  {
   "cell_type": "code",
   "execution_count": 21,
   "metadata": {},
   "outputs": [
    {
     "name": "stdout",
     "output_type": "stream",
     "text": [
      "Days with exactly two weather events:\t113\n"
     ]
    }
   ],
   "source": [
    "### Question 7\n",
    "event_cols = [col for col in tlh.columns if \"WT\" in col]\n",
    "tlh['total_WT'] = tlh[event_cols].sum(axis=1)\n",
    "two_events = (tlh.total_WT==2).sum()\n",
    "print(\"Days with exactly two weather events:\\t\" + str(two_events))"
   ]
  },
  {
   "cell_type": "code",
   "execution_count": 26,
   "metadata": {},
   "outputs": [
    {
     "name": "stdout",
     "output_type": "stream",
     "text": [
      "Wind direction summary:\n",
      "WindDirNames\n",
      "east      92\n",
      "north     68\n",
      "south    111\n",
      "west      87\n",
      "dtype: int64\n"
     ]
    }
   ],
   "source": [
    "### Questions 8\n",
    "# create a dictionary to translate direction degrees into N,S,E,W\n",
    "# for example: assigns 'east' to each whole number from 45 to 135 (ignores intermediate directions)\n",
    "directions = dict(list(zip(range(45, 135), ['east']*(360//4))))\n",
    "directions.update(list(zip(range(135, 225), ['south']*(360//4))))\n",
    "directions.update(list(zip(range(225, 315), ['west']*(360//4))))\n",
    "directions.update(list(zip(range(315, 361), ['north']*((360//8)+1))))\n",
    "directions.update(list(zip(range(1, 45), ['north']*(360//8))))\n",
    "# create new column that replaces actual data\n",
    "tlh['WindDirNames'] = tlh.WDF2.replace(directions)\n",
    "dir_summary = tlh.groupby('WindDirNames').size()\n",
    "print(\"Wind direction summary:\")\n",
    "print(dir_summary)"
   ]
  },
  {
   "cell_type": "markdown",
   "metadata": {},
   "source": [
    "### Feel free to use the course discussion board to discuss this exercise."
   ]
  }
 ],
 "metadata": {
  "kernelspec": {
   "display_name": "Python 2",
   "language": "python",
   "name": "python2"
  },
  "language_info": {
   "codemirror_mode": {
    "name": "ipython",
    "version": 2
   },
   "file_extension": ".py",
   "mimetype": "text/x-python",
   "name": "python",
   "nbconvert_exporter": "python",
   "pygments_lexer": "ipython2",
   "version": "2.7.16"
  }
 },
 "nbformat": 4,
 "nbformat_minor": 2
}
