{
 "cells": [
  {
   "cell_type": "markdown",
   "metadata": {},
   "source": [
    "### Exercise 1b: Test Notebook"
   ]
  },
  {
   "cell_type": "markdown",
   "metadata": {},
   "source": [
    " * This is an interactive environment for working with python. There are a few cell types, but for now it's important to recognize the two broad categories:\n",
    "   * Markdown cell: contains formatted text (this text is written in a Markdown cell)\n",
    "   * Code cell: contains executable code (the cell below this one)\n",
    " * To run a cell:\n",
    "   * Highlight the cell (click it, or arrow up or down to it)\n",
    "   * Hit Shift-enter (or click the play button near the top of the Notebook)\n",
    "   * Running a Markdown cell simply formats it, running a code cell executes the code"
   ]
  },
  {
   "cell_type": "code",
   "execution_count": null,
   "metadata": {},
   "outputs": [],
   "source": [
    "2 + 2"
   ]
  },
  {
   "cell_type": "code",
   "execution_count": null,
   "metadata": {},
   "outputs": [],
   "source": [
    "print(\"Hello World\")"
   ]
  },
  {
   "cell_type": "markdown",
   "metadata": {},
   "source": [
    "#### Other functionality\n",
    "\n",
    " * Scan over the buttons above and the `File`, `Edit`, etc. menu to see some of the Notebook's functionality.\n",
    " * You will be using the Notebook a lot this semester, it will be worth memorizing some of the `Keyboard Shortcuts` (under the `Help` menu). "
   ]
  },
  {
   "cell_type": "markdown",
   "metadata": {},
   "source": [
    "#### Play around\n",
    " * Go back up and change the earlier code cells, and then rerun them\n",
    " * Try entering some new code in the cell below."
   ]
  },
  {
   "cell_type": "code",
   "execution_count": null,
   "metadata": {},
   "outputs": [],
   "source": []
  },
  {
   "cell_type": "markdown",
   "metadata": {},
   "source": [
    "__Emailing a Notebook__\n",
    "\n",
    "Starting next week you will take a short quiz at the start of class in a Notebook like this (5-10 minutes). Once you complete the quiz, you will email it to me at bdjohnson@fsu.edu. The 5-10 minutes of quiz time _includes_ the time needed to email me your completed Notebook. I strongly recommend you practice emailing this Notebook to that address sometime before the start of the next class."
   ]
  },
  {
   "cell_type": "code",
   "execution_count": null,
   "metadata": {},
   "outputs": [],
   "source": []
  }
 ],
 "metadata": {
  "kernelspec": {
   "display_name": "Python 2",
   "language": "python",
   "name": "python2"
  },
  "language_info": {
   "codemirror_mode": {
    "name": "ipython",
    "version": 2
   },
   "file_extension": ".py",
   "mimetype": "text/x-python",
   "name": "python",
   "nbconvert_exporter": "python",
   "pygments_lexer": "ipython2",
   "version": "2.7.16"
  }
 },
 "nbformat": 4,
 "nbformat_minor": 1
}
