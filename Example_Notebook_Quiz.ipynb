{
 "cells": [
  {
   "cell_type": "markdown",
   "metadata": {},
   "source": [
    "This is a Jupyter (IPython) notebook.\n",
    "\n",
    "You can insert text and **apply** *formatting* of ***text***.\n",
    "\n",
    " * This is an interactive environment for working with python. There are a few cell types, but for now it's important to recognize the two broad categories:\n",
    "   * Markdown cell: contains formatted text (this text is written in a Markdown cell)\n",
    "   * Code cell: contains executable code (the cell below this one)\n",
    " * To run a cell:\n",
    "   * Highlight the cell (click it, or arrow up or down to it)\n",
    "   * Hit Shift-enter (or click the play button near the top of the Notebook)\n",
    "   * Running a Markdown cell simply formats it, running a code cell executes the code"
   ]
  },
  {
   "cell_type": "markdown",
   "metadata": {},
   "source": [
    "You can insert images inline.  <--(two spaces at the end for a new line. Can also use < br > w/out spaces.)  \n",
    "Like this gif of Hurricane Dorian from this past weekend (Saturday, August 31, 2019) before landfall in the Bahamas...\n",
    "<img src=\"http://cimss.ssec.wisc.edu/goes/blog/wp-content/uploads/2019/08/190831_goes16_visible_30second_Dorian_anim.gif\">"
   ]
  },
  {
   "cell_type": "markdown",
   "metadata": {},
   "source": [
    "You can also embed HTML by using the magic command %%HTML."
   ]
  },
  {
   "cell_type": "code",
   "execution_count": null,
   "metadata": {},
   "outputs": [],
   "source": [
    "%%HTML\n",
    "<iframe width=\"560\" height=\"315\" src=\"https://www.youtube.com/embed/HW29067qVWk\" frameborder=\"0\" allow=\"accelerometer; autoplay; encrypted-media; gyroscope; picture-in-picture\" allowfullscreen></iframe>"
   ]
  },
  {
   "cell_type": "markdown",
   "metadata": {},
   "source": [
    "(If you haven't already watched this video, it's a great primer.)"
   ]
  },
  {
   "cell_type": "markdown",
   "metadata": {},
   "source": [
    "#### Other functionality\n",
    "\n",
    " * Scan over the buttons above and the `File`, `Edit`, etc. menu to see some of the Notebook's functionality.\n",
    " * You will be using the Notebook a lot this semester, it will be worth memorizing some of the `Keyboard Shortcuts` (under the `Help` menu). "
   ]
  },
  {
   "cell_type": "markdown",
   "metadata": {},
   "source": [
    "#### Running Python code  \n",
    "Jupyter notebooks are also great ways to share Python code since you can run code in real-time and provide context. For example..."
   ]
  },
  {
   "cell_type": "code",
   "execution_count": null,
   "metadata": {},
   "outputs": [],
   "source": [
    "print(\"Hello World!\")"
   ]
  },
  {
   "cell_type": "code",
   "execution_count": null,
   "metadata": {},
   "outputs": [],
   "source": [
    "2 + 3"
   ]
  },
  {
   "cell_type": "markdown",
   "metadata": {},
   "source": [
    "We will use Jupyter notebooks to complete assignments and quizzes."
   ]
  },
  {
   "cell_type": "markdown",
   "metadata": {},
   "source": [
    "**An example quiz question might look like this...**<br>\n",
    "*Import the the pi function from the math module and find the area of a circle with radius equal to 4.*"
   ]
  },
  {
   "cell_type": "markdown",
   "metadata": {},
   "source": [
    "*(A more advanced way to ask the same question (without leading) might be, \"Calculate the area of a circle with a radius equal to 4.\")*"
   ]
  },
  {
   "cell_type": "code",
   "execution_count": null,
   "metadata": {},
   "outputs": [],
   "source": []
  },
  {
   "cell_type": "markdown",
   "metadata": {},
   "source": [
    "#### Play around\n",
    " * Go back up and change the earlier code cells, and then rerun them\n",
    " * Try entering some new code in the cell below."
   ]
  },
  {
   "cell_type": "markdown",
   "metadata": {},
   "source": [
    "__Emailing a Notebook__\n",
    "\n",
    "Starting next week, you will take a short quiz at the start of class in a Notebook like this (5-10 minutes). Once you complete the quiz, you will email it to me at bdjohnson@fsu.edu. The 5-10 minutes of quiz time _includes_ the time needed to email me your completed Notebook. I strongly recommend you practice emailing this Notebook to that address sometime before the start of the next class."
   ]
  }
 ],
 "metadata": {
  "kernelspec": {
   "display_name": "Python 2",
   "language": "python",
   "name": "python2"
  },
  "language_info": {
   "codemirror_mode": {
    "name": "ipython",
    "version": 2
   },
   "file_extension": ".py",
   "mimetype": "text/x-python",
   "name": "python",
   "nbconvert_exporter": "python",
   "pygments_lexer": "ipython2",
   "version": "2.7.16"
  }
 },
 "nbformat": 4,
 "nbformat_minor": 2
}
